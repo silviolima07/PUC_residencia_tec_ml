{
  "cells": [
    {
      "cell_type": "markdown",
      "metadata": {
        "id": "view-in-github",
        "colab_type": "text"
      },
      "source": [
        "<a href=\"https://colab.research.google.com/github/silviolima07/PUC_residencia_tec_ml/blob/main/Aula20_Assincrona_AtividadePratica03.ipynb\" target=\"_parent\"><img src=\"https://colab.research.google.com/assets/colab-badge.svg\" alt=\"Open In Colab\"/></a>"
      ]
    },
    {
      "cell_type": "markdown",
      "source": [
        "### Grupo:\n",
        "- Silvio Cesar de Lima - RA 23029232\n",
        "- Vitor Pereira Andrade - RA 23029249\n",
        "- Marcos Paulo Cassiano Pena - RA 23029256"
      ],
      "metadata": {
        "id": "a55t5Nru01h4"
      },
      "id": "a55t5Nru01h4"
    },
    {
      "cell_type": "markdown",
      "id": "fada07c6",
      "metadata": {
        "id": "fada07c6"
      },
      "source": [
        "# Aula 20 - Assícrona - Atividade Prática 03\n",
        "\n",
        "##  Implementação de modelos e verificação de eficiência da estratégia adotada em problemas de classificação considerando diferentes métodos de engenharia de features"
      ]
    },
    {
      "cell_type": "markdown",
      "id": "b967e40e",
      "metadata": {
        "id": "b967e40e"
      },
      "source": [
        "Esta atividade corresponde à nossa terceira atividade **valorizada** do curso de *Machine Learning*.\n",
        "\n",
        "### Instruções:\n",
        "\n",
        "1 - Reunam-se em grupos de **no máximo 3 pessoas**;\n",
        "\n",
        "2 - A entrega deve ser realizada via CANVAS através de um artigo no **formato PDF gerado a partir do *notebook***. Para tal fim, os grupos poderão utilizar o *Jupyter Notebook* ou o *Google Drive* para implementação do que foi solicitado.\n",
        "\n",
        "3 - O período de disponibilidade para recebimento da atividade será de **25/09/23 às 17h, até 02/10/23, às 17h**.\n",
        "\n",
        "4 - No cabeçalho do documento devem constar o **nome completo e o RA de TODOS os membros do grupo**."
      ]
    },
    {
      "cell_type": "markdown",
      "id": "e6599460",
      "metadata": {
        "id": "e6599460"
      },
      "source": [
        "#### Práticas a serem desenvolvidas:\n",
        "\n",
        "1 - Substituição de valores inválidos;\n",
        "\n",
        "2 - Verificação de eficiência considerando técnicas de normalização;\n",
        "\n",
        "3 - Seleção de *Features*;\n",
        "\n",
        "4 - Extração de *Features*;\n",
        "\n",
        "5 - Validação Cruzada considerando o método *k-fold*."
      ]
    },
    {
      "cell_type": "markdown",
      "id": "a2234f54",
      "metadata": {
        "id": "a2234f54"
      },
      "source": [
        "### Parâmetros fixos a serem utilizados:\n",
        "\n",
        "1 - Classificador ***Random Forest*** com `random_state = 0`;\n",
        "\n",
        "2 - Função `train_test_split`:\n",
        "\n",
        "     - Proporção de divisão de dados de treinamento e teste: 70% e 30%, respectivamente;\n",
        "     - `random_state = 42`.\n",
        "     \n"
      ]
    },
    {
      "cell_type": "markdown",
      "id": "55393e1d",
      "metadata": {
        "id": "55393e1d"
      },
      "source": [
        "**Questão 1)** Considere o banco de dados `water_potability.csv`.\n",
        "\n",
        "**a)** Verifique a existência de valores inválidos nos dados de entrada do *dataset* e, caso existam, observe os seguintes pontos:\n",
        "\n",
        "    - Se a porcentagem de dados inválidos for maior do que 20%, exclua esta(s) coluna(s);\n",
        "    - Se a porcentagem de dados inválidos for inferior a 20%, substitua os valores inválidos pelo valor imediatamente anterior, o método `bfill`.\n",
        "    \n",
        "**b)** Normalize os dados de entrada através do método `MinMaxScaler`.\n",
        "\n",
        "**c)** Realize a tarefa de classificação utilizando ***Random Forest***, considerando 10 árvores na floresta.\n",
        "\n",
        "**d)** Verifique a eficiência do método empregado utilizando a função `classification_report`."
      ]
    },
    {
      "cell_type": "markdown",
      "id": "e874efbf",
      "metadata": {
        "id": "e874efbf"
      },
      "source": [
        "**Questão 2)** Considerando os dados normalizados, e o modelo do classificador criado no exercício anterior, utilize o método de **seleção de features** **RFE** (*Recursive Feature Elimination*) para selecionar **3** *features* que farão parte da tarefa de classificação. Identifique quais colunas foram selecionadas. Analise os resultados por meio da função `classification_report`."
      ]
    },
    {
      "cell_type": "markdown",
      "id": "61277e1f",
      "metadata": {
        "id": "61277e1f"
      },
      "source": [
        "**Questão 3)** Considerando os dados normalizados e o modelo do classificador criado na **Questão 1)**, utilize a **Análise de Componentes Principais** para extrair as *features* que farão parte da tarefa de classificação. Considere utilizar **3** componentes principais e analise os resultados por meio da função `classification_report`."
      ]
    },
    {
      "cell_type": "markdown",
      "id": "a1ae4b84",
      "metadata": {
        "id": "a1ae4b84"
      },
      "source": [
        "**Questão 4)** Considerando as componentes principais extraídas na **Questão 3)**, utilize o método de **Validação Cruzada** por ***k-fold*** para verificar o número de àrvores adequado para a floresta na solução do problema. Considere variar o número de árvores entre 10 e 100, com passo de 10. Considere também `k = 10`, no método *k-fold*. Plote o resultado da acurácia do modelo de acordo com o número de árvores na floresta e realize a classificação considerando o melhor resultado alcançado na etapa de validação."
      ]
    },
    {
      "cell_type": "markdown",
      "id": "e3119b75",
      "metadata": {
        "id": "e3119b75"
      },
      "source": [
        "**Questão 5)** Explique os resultados obtidos nos exercícios anteriores."
      ]
    }
  ],
  "metadata": {
    "kernelspec": {
      "display_name": "Python 3 (ipykernel)",
      "language": "python",
      "name": "python3"
    },
    "language_info": {
      "codemirror_mode": {
        "name": "ipython",
        "version": 3
      },
      "file_extension": ".py",
      "mimetype": "text/x-python",
      "name": "python",
      "nbconvert_exporter": "python",
      "pygments_lexer": "ipython3",
      "version": "3.9.12"
    },
    "colab": {
      "provenance": [],
      "include_colab_link": true
    }
  },
  "nbformat": 4,
  "nbformat_minor": 5
}