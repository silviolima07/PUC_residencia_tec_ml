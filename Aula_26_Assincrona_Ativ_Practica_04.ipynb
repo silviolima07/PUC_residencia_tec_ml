{
  "nbformat": 4,
  "nbformat_minor": 0,
  "metadata": {
    "colab": {
      "provenance": [],
      "include_colab_link": true
    },
    "kernelspec": {
      "name": "python3",
      "display_name": "Python 3"
    },
    "language_info": {
      "name": "python"
    }
  },
  "cells": [
    {
      "cell_type": "markdown",
      "metadata": {
        "id": "view-in-github",
        "colab_type": "text"
      },
      "source": [
        "<a href=\"https://colab.research.google.com/github/silviolima07/PUC_residencia_tec_ml/blob/main/Aula_26_Assincrona_Ativ_Practica_04.ipynb\" target=\"_parent\"><img src=\"https://colab.research.google.com/assets/colab-badge.svg\" alt=\"Open In Colab\"/></a>"
      ]
    },
    {
      "cell_type": "markdown",
      "source": [
        "### Grupo:\n",
        "- Silvio Cesar de Lima \n",
        "- Vitor Pereira Andrade \n",
        "- Marcos Paulo Cassiano Pena "
      ],
      "metadata": {
        "id": "4s1g9yuZO0uY"
      }
    },
    {
      "cell_type": "markdown",
      "source": [
        "## Implementação de modelos e verificação de eficiência da estratégia adotada com redes neurais e busca de parâmetros por grid search/random search"
      ],
      "metadata": {
        "id": "Ep-QUkObJCxj"
      }
    },
    {
      "cell_type": "markdown",
      "source": [
        "\n",
        "### Questão 1)\n",
        "### Conforme estudamos, a técnica conhecida como Grid Search (Busca em Grade) é muito utilizada para a definição de hiperparâmetros de algoritmos de Machine Learning e Deep Learning, buscando maximizar o desempenho dos métodos nas tarefas às quais são designados. Para esta tarefa, deve-se criar um sistema de classificação binária utilizando uma rede neural MLP (Multi-Layer Perceptron), onde os hiperparâmetros da rede serão definidos através de um método de Busca em Grade, com validação por meio da técnica de k-fold. Para tal fim,considere seguir os seguintes passos:\n",
        "\n",
        "1. Faça as seguintes importações:\n",
        ". Dataset Breast Cancer a partir da biblioteca sklearn ;\n",
        ". O classificador MLPClassifier a partir da biblioteca sklearn.neural_network ;\n",
        ". O método GridSearchCV a partir da biblioteca sklearn.model_selection.\n",
        "\n",
        "2. Crie o modelo do classificador, criando a rede MPL através da função\n",
        "MLPClassifier e defina um valor para o parâmetro max_iter .\n",
        "\n",
        "3. Crie o mapa de buscas utilizando o conceito de dicionários, conforme o trecho\n",
        "de código a seguir:"
      ],
      "metadata": {
        "id": "WDnBbeYl4xpu"
      }
    },
    {
      "cell_type": "markdown",
      "source": [
        "### parameter_space = {\n",
        "###  'hidden_layer_sizes': ,\n",
        "### 'activation': ['tanh', 'relu'],\n",
        "### 'solver': ['sgd', 'adam'],\n",
        "### 'alpha': ,\n",
        "### 'learning_rate': ['constant','adaptive'],\n",
        " }"
      ],
      "metadata": {
        "id": "mHk6YOv62Fac"
      }
    },
    {
      "cell_type": "markdown",
      "source": [
        "### Para tal fim, teste dois valores diferentes para o hiperparâmetro alpha e duas estruturas diferentes de redes para o parâmetro hiddel_layer_sizes , que define o número de camadas ocultas e o número de neurônios.\n",
        "\n",
        "1. Utilize a função GridSearchCV para realizar a busca considere os parâmetros\n",
        "n_jobs e cv iguais a 1 e 5 , respectivamente.\n",
        "2. Verifique os melhores hiperparâmetros encontrados no modelo através do\n",
        "método best_params_ .\n",
        "3. Utilize a função classification_report da biblioteca sklearn para\n",
        "verificar a eficiência do modelo em termos das métricas de avaliação de\n",
        "classificação."
      ],
      "metadata": {
        "id": "iZ_-avMX2bm2"
      }
    },
    {
      "cell_type": "markdown",
      "source": [
        "### Import libs necessárias"
      ],
      "metadata": {
        "id": "E15W01Zi9J5c"
      }
    },
    {
      "cell_type": "code",
      "execution_count": 345,
      "metadata": {
        "id": "95tlKppn3tRe"
      },
      "outputs": [],
      "source": [
        "import numpy as np\n",
        "import pandas as pd\n",
        "\n",
        "import matplotlib.pyplot as plt\n",
        "\n",
        "from sklearn.model_selection import train_test_split\n",
        "\n",
        "from sklearn.metrics import classification_report\n",
        "\n",
        "from sklearn import datasets\n",
        "from sklearn.model_selection import GridSearchCV\n",
        "\n",
        "from sklearn.neural_network import MLPClassifier"
      ]
    },
    {
      "cell_type": "code",
      "source": [
        "import warnings\n",
        "warnings.filterwarnings(\"ignore\", category=DeprecationWarning)"
      ],
      "metadata": {
        "id": "uf9YWmsB-1Cr"
      },
      "execution_count": 346,
      "outputs": []
    },
    {
      "cell_type": "markdown",
      "source": [
        "### 1) Leitura de dataset"
      ],
      "metadata": {
        "id": "kLZ1uWxz9NjZ"
      }
    },
    {
      "cell_type": "code",
      "source": [
        "from sklearn.datasets import load_breast_cancer\n",
        "df = load_breast_cancer()\n",
        "\n",
        "df2 = pd.DataFrame(data=df.data, columns=df.feature_names)\n",
        "df2['target'] = df.target\n"
      ],
      "metadata": {
        "id": "jgH294iyk3gk"
      },
      "execution_count": 347,
      "outputs": []
    },
    {
      "cell_type": "code",
      "source": [
        "df2.shape"
      ],
      "metadata": {
        "colab": {
          "base_uri": "https://localhost:8080/"
        },
        "id": "WD_ASXHrlUzK",
        "outputId": "bcca457c-23eb-4063-89f4-f1e52c9d7ee9"
      },
      "execution_count": 348,
      "outputs": [
        {
          "output_type": "execute_result",
          "data": {
            "text/plain": [
              "(569, 31)"
            ]
          },
          "metadata": {},
          "execution_count": 348
        }
      ]
    },
    {
      "cell_type": "markdown",
      "source": [
        "### Dataset gerado"
      ],
      "metadata": {
        "id": "4TB7hD-3AYct"
      }
    },
    {
      "cell_type": "code",
      "source": [
        "df2.columns"
      ],
      "metadata": {
        "colab": {
          "base_uri": "https://localhost:8080/"
        },
        "id": "ef6kqQoKF98s",
        "outputId": "9077de79-0157-411c-c4f8-406d9a69f895"
      },
      "execution_count": 349,
      "outputs": [
        {
          "output_type": "execute_result",
          "data": {
            "text/plain": [
              "Index(['mean radius', 'mean texture', 'mean perimeter', 'mean area',\n",
              "       'mean smoothness', 'mean compactness', 'mean concavity',\n",
              "       'mean concave points', 'mean symmetry', 'mean fractal dimension',\n",
              "       'radius error', 'texture error', 'perimeter error', 'area error',\n",
              "       'smoothness error', 'compactness error', 'concavity error',\n",
              "       'concave points error', 'symmetry error', 'fractal dimension error',\n",
              "       'worst radius', 'worst texture', 'worst perimeter', 'worst area',\n",
              "       'worst smoothness', 'worst compactness', 'worst concavity',\n",
              "       'worst concave points', 'worst symmetry', 'worst fractal dimension',\n",
              "       'target'],\n",
              "      dtype='object')"
            ]
          },
          "metadata": {},
          "execution_count": 349
        }
      ]
    },
    {
      "cell_type": "code",
      "source": [
        "df2"
      ],
      "metadata": {
        "colab": {
          "base_uri": "https://localhost:8080/",
          "height": 478
        },
        "id": "NQy6X7FV_zhL",
        "outputId": "f43ba631-5487-4f21-de37-a463526bb5d8"
      },
      "execution_count": 350,
      "outputs": [
        {
          "output_type": "execute_result",
          "data": {
            "text/plain": [
              "     mean radius  mean texture  mean perimeter  mean area  mean smoothness  \\\n",
              "0          17.99         10.38          122.80     1001.0          0.11840   \n",
              "1          20.57         17.77          132.90     1326.0          0.08474   \n",
              "2          19.69         21.25          130.00     1203.0          0.10960   \n",
              "3          11.42         20.38           77.58      386.1          0.14250   \n",
              "4          20.29         14.34          135.10     1297.0          0.10030   \n",
              "..           ...           ...             ...        ...              ...   \n",
              "564        21.56         22.39          142.00     1479.0          0.11100   \n",
              "565        20.13         28.25          131.20     1261.0          0.09780   \n",
              "566        16.60         28.08          108.30      858.1          0.08455   \n",
              "567        20.60         29.33          140.10     1265.0          0.11780   \n",
              "568         7.76         24.54           47.92      181.0          0.05263   \n",
              "\n",
              "     mean compactness  mean concavity  mean concave points  mean symmetry  \\\n",
              "0             0.27760         0.30010              0.14710         0.2419   \n",
              "1             0.07864         0.08690              0.07017         0.1812   \n",
              "2             0.15990         0.19740              0.12790         0.2069   \n",
              "3             0.28390         0.24140              0.10520         0.2597   \n",
              "4             0.13280         0.19800              0.10430         0.1809   \n",
              "..                ...             ...                  ...            ...   \n",
              "564           0.11590         0.24390              0.13890         0.1726   \n",
              "565           0.10340         0.14400              0.09791         0.1752   \n",
              "566           0.10230         0.09251              0.05302         0.1590   \n",
              "567           0.27700         0.35140              0.15200         0.2397   \n",
              "568           0.04362         0.00000              0.00000         0.1587   \n",
              "\n",
              "     mean fractal dimension  ...  worst texture  worst perimeter  worst area  \\\n",
              "0                   0.07871  ...          17.33           184.60      2019.0   \n",
              "1                   0.05667  ...          23.41           158.80      1956.0   \n",
              "2                   0.05999  ...          25.53           152.50      1709.0   \n",
              "3                   0.09744  ...          26.50            98.87       567.7   \n",
              "4                   0.05883  ...          16.67           152.20      1575.0   \n",
              "..                      ...  ...            ...              ...         ...   \n",
              "564                 0.05623  ...          26.40           166.10      2027.0   \n",
              "565                 0.05533  ...          38.25           155.00      1731.0   \n",
              "566                 0.05648  ...          34.12           126.70      1124.0   \n",
              "567                 0.07016  ...          39.42           184.60      1821.0   \n",
              "568                 0.05884  ...          30.37            59.16       268.6   \n",
              "\n",
              "     worst smoothness  worst compactness  worst concavity  \\\n",
              "0             0.16220            0.66560           0.7119   \n",
              "1             0.12380            0.18660           0.2416   \n",
              "2             0.14440            0.42450           0.4504   \n",
              "3             0.20980            0.86630           0.6869   \n",
              "4             0.13740            0.20500           0.4000   \n",
              "..                ...                ...              ...   \n",
              "564           0.14100            0.21130           0.4107   \n",
              "565           0.11660            0.19220           0.3215   \n",
              "566           0.11390            0.30940           0.3403   \n",
              "567           0.16500            0.86810           0.9387   \n",
              "568           0.08996            0.06444           0.0000   \n",
              "\n",
              "     worst concave points  worst symmetry  worst fractal dimension  target  \n",
              "0                  0.2654          0.4601                  0.11890       0  \n",
              "1                  0.1860          0.2750                  0.08902       0  \n",
              "2                  0.2430          0.3613                  0.08758       0  \n",
              "3                  0.2575          0.6638                  0.17300       0  \n",
              "4                  0.1625          0.2364                  0.07678       0  \n",
              "..                    ...             ...                      ...     ...  \n",
              "564                0.2216          0.2060                  0.07115       0  \n",
              "565                0.1628          0.2572                  0.06637       0  \n",
              "566                0.1418          0.2218                  0.07820       0  \n",
              "567                0.2650          0.4087                  0.12400       0  \n",
              "568                0.0000          0.2871                  0.07039       1  \n",
              "\n",
              "[569 rows x 31 columns]"
            ],
            "text/html": [
              "\n",
              "  <div id=\"df-9345e3dc-2d0e-4ee8-b0dd-50b1e5685323\" class=\"colab-df-container\">\n",
              "    <div>\n",
              "<style scoped>\n",
              "    .dataframe tbody tr th:only-of-type {\n",
              "        vertical-align: middle;\n",
              "    }\n",
              "\n",
              "    .dataframe tbody tr th {\n",
              "        vertical-align: top;\n",
              "    }\n",
              "\n",
              "    .dataframe thead th {\n",
              "        text-align: right;\n",
              "    }\n",
              "</style>\n",
              "<table border=\"1\" class=\"dataframe\">\n",
              "  <thead>\n",
              "    <tr style=\"text-align: right;\">\n",
              "      <th></th>\n",
              "      <th>mean radius</th>\n",
              "      <th>mean texture</th>\n",
              "      <th>mean perimeter</th>\n",
              "      <th>mean area</th>\n",
              "      <th>mean smoothness</th>\n",
              "      <th>mean compactness</th>\n",
              "      <th>mean concavity</th>\n",
              "      <th>mean concave points</th>\n",
              "      <th>mean symmetry</th>\n",
              "      <th>mean fractal dimension</th>\n",
              "      <th>...</th>\n",
              "      <th>worst texture</th>\n",
              "      <th>worst perimeter</th>\n",
              "      <th>worst area</th>\n",
              "      <th>worst smoothness</th>\n",
              "      <th>worst compactness</th>\n",
              "      <th>worst concavity</th>\n",
              "      <th>worst concave points</th>\n",
              "      <th>worst symmetry</th>\n",
              "      <th>worst fractal dimension</th>\n",
              "      <th>target</th>\n",
              "    </tr>\n",
              "  </thead>\n",
              "  <tbody>\n",
              "    <tr>\n",
              "      <th>0</th>\n",
              "      <td>17.99</td>\n",
              "      <td>10.38</td>\n",
              "      <td>122.80</td>\n",
              "      <td>1001.0</td>\n",
              "      <td>0.11840</td>\n",
              "      <td>0.27760</td>\n",
              "      <td>0.30010</td>\n",
              "      <td>0.14710</td>\n",
              "      <td>0.2419</td>\n",
              "      <td>0.07871</td>\n",
              "      <td>...</td>\n",
              "      <td>17.33</td>\n",
              "      <td>184.60</td>\n",
              "      <td>2019.0</td>\n",
              "      <td>0.16220</td>\n",
              "      <td>0.66560</td>\n",
              "      <td>0.7119</td>\n",
              "      <td>0.2654</td>\n",
              "      <td>0.4601</td>\n",
              "      <td>0.11890</td>\n",
              "      <td>0</td>\n",
              "    </tr>\n",
              "    <tr>\n",
              "      <th>1</th>\n",
              "      <td>20.57</td>\n",
              "      <td>17.77</td>\n",
              "      <td>132.90</td>\n",
              "      <td>1326.0</td>\n",
              "      <td>0.08474</td>\n",
              "      <td>0.07864</td>\n",
              "      <td>0.08690</td>\n",
              "      <td>0.07017</td>\n",
              "      <td>0.1812</td>\n",
              "      <td>0.05667</td>\n",
              "      <td>...</td>\n",
              "      <td>23.41</td>\n",
              "      <td>158.80</td>\n",
              "      <td>1956.0</td>\n",
              "      <td>0.12380</td>\n",
              "      <td>0.18660</td>\n",
              "      <td>0.2416</td>\n",
              "      <td>0.1860</td>\n",
              "      <td>0.2750</td>\n",
              "      <td>0.08902</td>\n",
              "      <td>0</td>\n",
              "    </tr>\n",
              "    <tr>\n",
              "      <th>2</th>\n",
              "      <td>19.69</td>\n",
              "      <td>21.25</td>\n",
              "      <td>130.00</td>\n",
              "      <td>1203.0</td>\n",
              "      <td>0.10960</td>\n",
              "      <td>0.15990</td>\n",
              "      <td>0.19740</td>\n",
              "      <td>0.12790</td>\n",
              "      <td>0.2069</td>\n",
              "      <td>0.05999</td>\n",
              "      <td>...</td>\n",
              "      <td>25.53</td>\n",
              "      <td>152.50</td>\n",
              "      <td>1709.0</td>\n",
              "      <td>0.14440</td>\n",
              "      <td>0.42450</td>\n",
              "      <td>0.4504</td>\n",
              "      <td>0.2430</td>\n",
              "      <td>0.3613</td>\n",
              "      <td>0.08758</td>\n",
              "      <td>0</td>\n",
              "    </tr>\n",
              "    <tr>\n",
              "      <th>3</th>\n",
              "      <td>11.42</td>\n",
              "      <td>20.38</td>\n",
              "      <td>77.58</td>\n",
              "      <td>386.1</td>\n",
              "      <td>0.14250</td>\n",
              "      <td>0.28390</td>\n",
              "      <td>0.24140</td>\n",
              "      <td>0.10520</td>\n",
              "      <td>0.2597</td>\n",
              "      <td>0.09744</td>\n",
              "      <td>...</td>\n",
              "      <td>26.50</td>\n",
              "      <td>98.87</td>\n",
              "      <td>567.7</td>\n",
              "      <td>0.20980</td>\n",
              "      <td>0.86630</td>\n",
              "      <td>0.6869</td>\n",
              "      <td>0.2575</td>\n",
              "      <td>0.6638</td>\n",
              "      <td>0.17300</td>\n",
              "      <td>0</td>\n",
              "    </tr>\n",
              "    <tr>\n",
              "      <th>4</th>\n",
              "      <td>20.29</td>\n",
              "      <td>14.34</td>\n",
              "      <td>135.10</td>\n",
              "      <td>1297.0</td>\n",
              "      <td>0.10030</td>\n",
              "      <td>0.13280</td>\n",
              "      <td>0.19800</td>\n",
              "      <td>0.10430</td>\n",
              "      <td>0.1809</td>\n",
              "      <td>0.05883</td>\n",
              "      <td>...</td>\n",
              "      <td>16.67</td>\n",
              "      <td>152.20</td>\n",
              "      <td>1575.0</td>\n",
              "      <td>0.13740</td>\n",
              "      <td>0.20500</td>\n",
              "      <td>0.4000</td>\n",
              "      <td>0.1625</td>\n",
              "      <td>0.2364</td>\n",
              "      <td>0.07678</td>\n",
              "      <td>0</td>\n",
              "    </tr>\n",
              "    <tr>\n",
              "      <th>...</th>\n",
              "      <td>...</td>\n",
              "      <td>...</td>\n",
              "      <td>...</td>\n",
              "      <td>...</td>\n",
              "      <td>...</td>\n",
              "      <td>...</td>\n",
              "      <td>...</td>\n",
              "      <td>...</td>\n",
              "      <td>...</td>\n",
              "      <td>...</td>\n",
              "      <td>...</td>\n",
              "      <td>...</td>\n",
              "      <td>...</td>\n",
              "      <td>...</td>\n",
              "      <td>...</td>\n",
              "      <td>...</td>\n",
              "      <td>...</td>\n",
              "      <td>...</td>\n",
              "      <td>...</td>\n",
              "      <td>...</td>\n",
              "      <td>...</td>\n",
              "    </tr>\n",
              "    <tr>\n",
              "      <th>564</th>\n",
              "      <td>21.56</td>\n",
              "      <td>22.39</td>\n",
              "      <td>142.00</td>\n",
              "      <td>1479.0</td>\n",
              "      <td>0.11100</td>\n",
              "      <td>0.11590</td>\n",
              "      <td>0.24390</td>\n",
              "      <td>0.13890</td>\n",
              "      <td>0.1726</td>\n",
              "      <td>0.05623</td>\n",
              "      <td>...</td>\n",
              "      <td>26.40</td>\n",
              "      <td>166.10</td>\n",
              "      <td>2027.0</td>\n",
              "      <td>0.14100</td>\n",
              "      <td>0.21130</td>\n",
              "      <td>0.4107</td>\n",
              "      <td>0.2216</td>\n",
              "      <td>0.2060</td>\n",
              "      <td>0.07115</td>\n",
              "      <td>0</td>\n",
              "    </tr>\n",
              "    <tr>\n",
              "      <th>565</th>\n",
              "      <td>20.13</td>\n",
              "      <td>28.25</td>\n",
              "      <td>131.20</td>\n",
              "      <td>1261.0</td>\n",
              "      <td>0.09780</td>\n",
              "      <td>0.10340</td>\n",
              "      <td>0.14400</td>\n",
              "      <td>0.09791</td>\n",
              "      <td>0.1752</td>\n",
              "      <td>0.05533</td>\n",
              "      <td>...</td>\n",
              "      <td>38.25</td>\n",
              "      <td>155.00</td>\n",
              "      <td>1731.0</td>\n",
              "      <td>0.11660</td>\n",
              "      <td>0.19220</td>\n",
              "      <td>0.3215</td>\n",
              "      <td>0.1628</td>\n",
              "      <td>0.2572</td>\n",
              "      <td>0.06637</td>\n",
              "      <td>0</td>\n",
              "    </tr>\n",
              "    <tr>\n",
              "      <th>566</th>\n",
              "      <td>16.60</td>\n",
              "      <td>28.08</td>\n",
              "      <td>108.30</td>\n",
              "      <td>858.1</td>\n",
              "      <td>0.08455</td>\n",
              "      <td>0.10230</td>\n",
              "      <td>0.09251</td>\n",
              "      <td>0.05302</td>\n",
              "      <td>0.1590</td>\n",
              "      <td>0.05648</td>\n",
              "      <td>...</td>\n",
              "      <td>34.12</td>\n",
              "      <td>126.70</td>\n",
              "      <td>1124.0</td>\n",
              "      <td>0.11390</td>\n",
              "      <td>0.30940</td>\n",
              "      <td>0.3403</td>\n",
              "      <td>0.1418</td>\n",
              "      <td>0.2218</td>\n",
              "      <td>0.07820</td>\n",
              "      <td>0</td>\n",
              "    </tr>\n",
              "    <tr>\n",
              "      <th>567</th>\n",
              "      <td>20.60</td>\n",
              "      <td>29.33</td>\n",
              "      <td>140.10</td>\n",
              "      <td>1265.0</td>\n",
              "      <td>0.11780</td>\n",
              "      <td>0.27700</td>\n",
              "      <td>0.35140</td>\n",
              "      <td>0.15200</td>\n",
              "      <td>0.2397</td>\n",
              "      <td>0.07016</td>\n",
              "      <td>...</td>\n",
              "      <td>39.42</td>\n",
              "      <td>184.60</td>\n",
              "      <td>1821.0</td>\n",
              "      <td>0.16500</td>\n",
              "      <td>0.86810</td>\n",
              "      <td>0.9387</td>\n",
              "      <td>0.2650</td>\n",
              "      <td>0.4087</td>\n",
              "      <td>0.12400</td>\n",
              "      <td>0</td>\n",
              "    </tr>\n",
              "    <tr>\n",
              "      <th>568</th>\n",
              "      <td>7.76</td>\n",
              "      <td>24.54</td>\n",
              "      <td>47.92</td>\n",
              "      <td>181.0</td>\n",
              "      <td>0.05263</td>\n",
              "      <td>0.04362</td>\n",
              "      <td>0.00000</td>\n",
              "      <td>0.00000</td>\n",
              "      <td>0.1587</td>\n",
              "      <td>0.05884</td>\n",
              "      <td>...</td>\n",
              "      <td>30.37</td>\n",
              "      <td>59.16</td>\n",
              "      <td>268.6</td>\n",
              "      <td>0.08996</td>\n",
              "      <td>0.06444</td>\n",
              "      <td>0.0000</td>\n",
              "      <td>0.0000</td>\n",
              "      <td>0.2871</td>\n",
              "      <td>0.07039</td>\n",
              "      <td>1</td>\n",
              "    </tr>\n",
              "  </tbody>\n",
              "</table>\n",
              "<p>569 rows × 31 columns</p>\n",
              "</div>\n",
              "    <div class=\"colab-df-buttons\">\n",
              "\n",
              "  <div class=\"colab-df-container\">\n",
              "    <button class=\"colab-df-convert\" onclick=\"convertToInteractive('df-9345e3dc-2d0e-4ee8-b0dd-50b1e5685323')\"\n",
              "            title=\"Convert this dataframe to an interactive table.\"\n",
              "            style=\"display:none;\">\n",
              "\n",
              "  <svg xmlns=\"http://www.w3.org/2000/svg\" height=\"24px\" viewBox=\"0 -960 960 960\">\n",
              "    <path d=\"M120-120v-720h720v720H120Zm60-500h600v-160H180v160Zm220 220h160v-160H400v160Zm0 220h160v-160H400v160ZM180-400h160v-160H180v160Zm440 0h160v-160H620v160ZM180-180h160v-160H180v160Zm440 0h160v-160H620v160Z\"/>\n",
              "  </svg>\n",
              "    </button>\n",
              "\n",
              "  <style>\n",
              "    .colab-df-container {\n",
              "      display:flex;\n",
              "      gap: 12px;\n",
              "    }\n",
              "\n",
              "    .colab-df-convert {\n",
              "      background-color: #E8F0FE;\n",
              "      border: none;\n",
              "      border-radius: 50%;\n",
              "      cursor: pointer;\n",
              "      display: none;\n",
              "      fill: #1967D2;\n",
              "      height: 32px;\n",
              "      padding: 0 0 0 0;\n",
              "      width: 32px;\n",
              "    }\n",
              "\n",
              "    .colab-df-convert:hover {\n",
              "      background-color: #E2EBFA;\n",
              "      box-shadow: 0px 1px 2px rgba(60, 64, 67, 0.3), 0px 1px 3px 1px rgba(60, 64, 67, 0.15);\n",
              "      fill: #174EA6;\n",
              "    }\n",
              "\n",
              "    .colab-df-buttons div {\n",
              "      margin-bottom: 4px;\n",
              "    }\n",
              "\n",
              "    [theme=dark] .colab-df-convert {\n",
              "      background-color: #3B4455;\n",
              "      fill: #D2E3FC;\n",
              "    }\n",
              "\n",
              "    [theme=dark] .colab-df-convert:hover {\n",
              "      background-color: #434B5C;\n",
              "      box-shadow: 0px 1px 3px 1px rgba(0, 0, 0, 0.15);\n",
              "      filter: drop-shadow(0px 1px 2px rgba(0, 0, 0, 0.3));\n",
              "      fill: #FFFFFF;\n",
              "    }\n",
              "  </style>\n",
              "\n",
              "    <script>\n",
              "      const buttonEl =\n",
              "        document.querySelector('#df-9345e3dc-2d0e-4ee8-b0dd-50b1e5685323 button.colab-df-convert');\n",
              "      buttonEl.style.display =\n",
              "        google.colab.kernel.accessAllowed ? 'block' : 'none';\n",
              "\n",
              "      async function convertToInteractive(key) {\n",
              "        const element = document.querySelector('#df-9345e3dc-2d0e-4ee8-b0dd-50b1e5685323');\n",
              "        const dataTable =\n",
              "          await google.colab.kernel.invokeFunction('convertToInteractive',\n",
              "                                                    [key], {});\n",
              "        if (!dataTable) return;\n",
              "\n",
              "        const docLinkHtml = 'Like what you see? Visit the ' +\n",
              "          '<a target=\"_blank\" href=https://colab.research.google.com/notebooks/data_table.ipynb>data table notebook</a>'\n",
              "          + ' to learn more about interactive tables.';\n",
              "        element.innerHTML = '';\n",
              "        dataTable['output_type'] = 'display_data';\n",
              "        await google.colab.output.renderOutput(dataTable, element);\n",
              "        const docLink = document.createElement('div');\n",
              "        docLink.innerHTML = docLinkHtml;\n",
              "        element.appendChild(docLink);\n",
              "      }\n",
              "    </script>\n",
              "  </div>\n",
              "\n",
              "\n",
              "<div id=\"df-d2e08e08-c143-415c-98c6-a953c3af3e75\">\n",
              "  <button class=\"colab-df-quickchart\" onclick=\"quickchart('df-d2e08e08-c143-415c-98c6-a953c3af3e75')\"\n",
              "            title=\"Suggest charts.\"\n",
              "            style=\"display:none;\">\n",
              "\n",
              "<svg xmlns=\"http://www.w3.org/2000/svg\" height=\"24px\"viewBox=\"0 0 24 24\"\n",
              "     width=\"24px\">\n",
              "    <g>\n",
              "        <path d=\"M19 3H5c-1.1 0-2 .9-2 2v14c0 1.1.9 2 2 2h14c1.1 0 2-.9 2-2V5c0-1.1-.9-2-2-2zM9 17H7v-7h2v7zm4 0h-2V7h2v10zm4 0h-2v-4h2v4z\"/>\n",
              "    </g>\n",
              "</svg>\n",
              "  </button>\n",
              "\n",
              "<style>\n",
              "  .colab-df-quickchart {\n",
              "      --bg-color: #E8F0FE;\n",
              "      --fill-color: #1967D2;\n",
              "      --hover-bg-color: #E2EBFA;\n",
              "      --hover-fill-color: #174EA6;\n",
              "      --disabled-fill-color: #AAA;\n",
              "      --disabled-bg-color: #DDD;\n",
              "  }\n",
              "\n",
              "  [theme=dark] .colab-df-quickchart {\n",
              "      --bg-color: #3B4455;\n",
              "      --fill-color: #D2E3FC;\n",
              "      --hover-bg-color: #434B5C;\n",
              "      --hover-fill-color: #FFFFFF;\n",
              "      --disabled-bg-color: #3B4455;\n",
              "      --disabled-fill-color: #666;\n",
              "  }\n",
              "\n",
              "  .colab-df-quickchart {\n",
              "    background-color: var(--bg-color);\n",
              "    border: none;\n",
              "    border-radius: 50%;\n",
              "    cursor: pointer;\n",
              "    display: none;\n",
              "    fill: var(--fill-color);\n",
              "    height: 32px;\n",
              "    padding: 0;\n",
              "    width: 32px;\n",
              "  }\n",
              "\n",
              "  .colab-df-quickchart:hover {\n",
              "    background-color: var(--hover-bg-color);\n",
              "    box-shadow: 0 1px 2px rgba(60, 64, 67, 0.3), 0 1px 3px 1px rgba(60, 64, 67, 0.15);\n",
              "    fill: var(--button-hover-fill-color);\n",
              "  }\n",
              "\n",
              "  .colab-df-quickchart-complete:disabled,\n",
              "  .colab-df-quickchart-complete:disabled:hover {\n",
              "    background-color: var(--disabled-bg-color);\n",
              "    fill: var(--disabled-fill-color);\n",
              "    box-shadow: none;\n",
              "  }\n",
              "\n",
              "  .colab-df-spinner {\n",
              "    border: 2px solid var(--fill-color);\n",
              "    border-color: transparent;\n",
              "    border-bottom-color: var(--fill-color);\n",
              "    animation:\n",
              "      spin 1s steps(1) infinite;\n",
              "  }\n",
              "\n",
              "  @keyframes spin {\n",
              "    0% {\n",
              "      border-color: transparent;\n",
              "      border-bottom-color: var(--fill-color);\n",
              "      border-left-color: var(--fill-color);\n",
              "    }\n",
              "    20% {\n",
              "      border-color: transparent;\n",
              "      border-left-color: var(--fill-color);\n",
              "      border-top-color: var(--fill-color);\n",
              "    }\n",
              "    30% {\n",
              "      border-color: transparent;\n",
              "      border-left-color: var(--fill-color);\n",
              "      border-top-color: var(--fill-color);\n",
              "      border-right-color: var(--fill-color);\n",
              "    }\n",
              "    40% {\n",
              "      border-color: transparent;\n",
              "      border-right-color: var(--fill-color);\n",
              "      border-top-color: var(--fill-color);\n",
              "    }\n",
              "    60% {\n",
              "      border-color: transparent;\n",
              "      border-right-color: var(--fill-color);\n",
              "    }\n",
              "    80% {\n",
              "      border-color: transparent;\n",
              "      border-right-color: var(--fill-color);\n",
              "      border-bottom-color: var(--fill-color);\n",
              "    }\n",
              "    90% {\n",
              "      border-color: transparent;\n",
              "      border-bottom-color: var(--fill-color);\n",
              "    }\n",
              "  }\n",
              "</style>\n",
              "\n",
              "  <script>\n",
              "    async function quickchart(key) {\n",
              "      const quickchartButtonEl =\n",
              "        document.querySelector('#' + key + ' button');\n",
              "      quickchartButtonEl.disabled = true;  // To prevent multiple clicks.\n",
              "      quickchartButtonEl.classList.add('colab-df-spinner');\n",
              "      try {\n",
              "        const charts = await google.colab.kernel.invokeFunction(\n",
              "            'suggestCharts', [key], {});\n",
              "      } catch (error) {\n",
              "        console.error('Error during call to suggestCharts:', error);\n",
              "      }\n",
              "      quickchartButtonEl.classList.remove('colab-df-spinner');\n",
              "      quickchartButtonEl.classList.add('colab-df-quickchart-complete');\n",
              "    }\n",
              "    (() => {\n",
              "      let quickchartButtonEl =\n",
              "        document.querySelector('#df-d2e08e08-c143-415c-98c6-a953c3af3e75 button');\n",
              "      quickchartButtonEl.style.display =\n",
              "        google.colab.kernel.accessAllowed ? 'block' : 'none';\n",
              "    })();\n",
              "  </script>\n",
              "</div>\n",
              "    </div>\n",
              "  </div>\n"
            ]
          },
          "metadata": {},
          "execution_count": 350
        }
      ]
    },
    {
      "cell_type": "code",
      "source": [
        "df2.info()"
      ],
      "metadata": {
        "colab": {
          "base_uri": "https://localhost:8080/"
        },
        "id": "6eZWsO2pIzI-",
        "outputId": "cf86be07-248e-47c6-c5e9-a9792d5b3d03"
      },
      "execution_count": 351,
      "outputs": [
        {
          "output_type": "stream",
          "name": "stdout",
          "text": [
            "<class 'pandas.core.frame.DataFrame'>\n",
            "RangeIndex: 569 entries, 0 to 568\n",
            "Data columns (total 31 columns):\n",
            " #   Column                   Non-Null Count  Dtype  \n",
            "---  ------                   --------------  -----  \n",
            " 0   mean radius              569 non-null    float64\n",
            " 1   mean texture             569 non-null    float64\n",
            " 2   mean perimeter           569 non-null    float64\n",
            " 3   mean area                569 non-null    float64\n",
            " 4   mean smoothness          569 non-null    float64\n",
            " 5   mean compactness         569 non-null    float64\n",
            " 6   mean concavity           569 non-null    float64\n",
            " 7   mean concave points      569 non-null    float64\n",
            " 8   mean symmetry            569 non-null    float64\n",
            " 9   mean fractal dimension   569 non-null    float64\n",
            " 10  radius error             569 non-null    float64\n",
            " 11  texture error            569 non-null    float64\n",
            " 12  perimeter error          569 non-null    float64\n",
            " 13  area error               569 non-null    float64\n",
            " 14  smoothness error         569 non-null    float64\n",
            " 15  compactness error        569 non-null    float64\n",
            " 16  concavity error          569 non-null    float64\n",
            " 17  concave points error     569 non-null    float64\n",
            " 18  symmetry error           569 non-null    float64\n",
            " 19  fractal dimension error  569 non-null    float64\n",
            " 20  worst radius             569 non-null    float64\n",
            " 21  worst texture            569 non-null    float64\n",
            " 22  worst perimeter          569 non-null    float64\n",
            " 23  worst area               569 non-null    float64\n",
            " 24  worst smoothness         569 non-null    float64\n",
            " 25  worst compactness        569 non-null    float64\n",
            " 26  worst concavity          569 non-null    float64\n",
            " 27  worst concave points     569 non-null    float64\n",
            " 28  worst symmetry           569 non-null    float64\n",
            " 29  worst fractal dimension  569 non-null    float64\n",
            " 30  target                   569 non-null    int64  \n",
            "dtypes: float64(30), int64(1)\n",
            "memory usage: 137.9 KB\n"
          ]
        }
      ]
    },
    {
      "cell_type": "markdown",
      "source": [
        "### As classes nesse dataset estão desequilibradas.\n",
        "### A acurácia pode nao ser a melhor métrica de avaliação."
      ],
      "metadata": {
        "id": "JTLYHWTtbDQc"
      }
    },
    {
      "cell_type": "code",
      "source": [
        "df2.target.value_counts()"
      ],
      "metadata": {
        "colab": {
          "base_uri": "https://localhost:8080/"
        },
        "id": "KXlnwjVJaigj",
        "outputId": "94ee4d02-d947-4535-f460-e1d1fcd75c38"
      },
      "execution_count": 352,
      "outputs": [
        {
          "output_type": "execute_result",
          "data": {
            "text/plain": [
              "1    357\n",
              "0    212\n",
              "Name: target, dtype: int64"
            ]
          },
          "metadata": {},
          "execution_count": 352
        }
      ]
    },
    {
      "cell_type": "code",
      "source": [
        "# Remover a coluna target em X\n",
        "X = df2.drop(['target'], axis=1)\n",
        "#\n",
        "# Separar a coluna target em y\n",
        "y = df2['target']"
      ],
      "metadata": {
        "id": "F7Uqv3lMFv7a"
      },
      "execution_count": 353,
      "outputs": []
    },
    {
      "cell_type": "markdown",
      "source": [
        "### 3) Separe os dados em dados de treinamento e teste utilizando a proporção 70%¨e 30%, respectivamente, e random state = 0."
      ],
      "metadata": {
        "id": "bl-3QDMaaKrX"
      }
    },
    {
      "cell_type": "code",
      "source": [
        "X_train, X_test, y_train, y_test = train_test_split(X, y,test_size=0.3,random_state=0) # 70% training and 30% test"
      ],
      "metadata": {
        "id": "hDTesqnXGIQF"
      },
      "execution_count": 354,
      "outputs": []
    },
    {
      "cell_type": "code",
      "source": [
        "print(\"X train:\", X_train.shape)\n",
        "#\n",
        "print(\"y train:\", y_train.shape)\n",
        "#\n",
        "print(\"X test:\", X_test.shape)\n",
        "#\n",
        "print(\"y test:\", y_test.shape)"
      ],
      "metadata": {
        "colab": {
          "base_uri": "https://localhost:8080/"
        },
        "id": "dyqb1DIoGRHs",
        "outputId": "5e64804f-5eb0-4268-ed39-0698b2491a34"
      },
      "execution_count": 355,
      "outputs": [
        {
          "output_type": "stream",
          "name": "stdout",
          "text": [
            "X train: (398, 30)\n",
            "y train: (398,)\n",
            "X test: (171, 30)\n",
            "y test: (171,)\n"
          ]
        }
      ]
    },
    {
      "cell_type": "code",
      "source": [],
      "metadata": {
        "id": "ec2srziE1uA9"
      },
      "execution_count": 355,
      "outputs": []
    },
    {
      "cell_type": "markdown",
      "source": [
        "### Inicializando o MLPClassifier"
      ],
      "metadata": {
        "id": "5NN4hYPgDa4k"
      }
    },
    {
      "cell_type": "code",
      "source": [
        "max_iter = 1000"
      ],
      "metadata": {
        "id": "TZBuwRDSEBgk"
      },
      "execution_count": 356,
      "outputs": []
    },
    {
      "cell_type": "code",
      "source": [
        "mpl = MLPClassifier(max_iter=max_iter, random_state=0)"
      ],
      "metadata": {
        "id": "sAaBRWx6oLkp"
      },
      "execution_count": 357,
      "outputs": []
    },
    {
      "cell_type": "markdown",
      "source": [
        "### Parametros do GridSearchCV"
      ],
      "metadata": {
        "id": "KgrvSRVLouBK"
      }
    },
    {
      "cell_type": "markdown",
      "source": [
        "### Rede Neural\n",
        "-  hidden_layer_sizes\n",
        "> Define o número de camadas ocultas e o número de neuronios na estrutura da rede.\n",
        "- alpha\n",
        "> regularização, corrigindo e evitando o overfitting."
      ],
      "metadata": {
        "id": "XOqrTj2TbybR"
      }
    },
    {
      "cell_type": "code",
      "source": [
        "# Duas camadas ocultas\n",
        "# 5 neuronios na primera e 10 neuronios na segunda camada.\n",
        "# 10 neuronios na primeira e 20 neuronios na segunda camada.\n",
        "hidden_layer_sizes = [(5,10), (10,20)]\n",
        "\n",
        "# Uma com uma única camada oculta com 10 neurônios.\n",
        "# Outra com uma única camada oculta com 20 neurônios.\n",
        "# variando a capacidade da rede (número de neurônios) mantendo a profundidade (número de camadas) constante.\n",
        "#hidden_layer_sizes = [10,20]\n",
        "\n",
        "# Regularization, combat overfitting\n",
        "alpha = [0.01 , 0.5]\n",
        "\n",
        "\n",
        "#\n",
        "\n",
        "parameter_space = {\n",
        "    'hidden_layer_sizes': hidden_layer_sizes ,\n",
        " 'activation': ['tanh', 'relu'],\n",
        " 'solver': ['sgd', 'adam'],\n",
        " 'alpha':alpha,\n",
        " 'learning_rate': ['constant','adaptive'],\n",
        " }\n",
        "\n",
        " #\n",
        "n_jobs= 1\n",
        "#\n",
        "cv=5\n"
      ],
      "metadata": {
        "id": "gYp9_J3TDukP"
      },
      "execution_count": 358,
      "outputs": []
    },
    {
      "cell_type": "markdown",
      "source": [
        "### Foi usada a precisão para avaliação pois o dataset encontra-se desequilibrado."
      ],
      "metadata": {
        "id": "viWVeG-Lcmq1"
      }
    },
    {
      "cell_type": "code",
      "source": [
        "grid = GridSearchCV(mpl, parameter_space, n_jobs= n_jobs, cv=cv, verbose=1, scoring= 'precision')"
      ],
      "metadata": {
        "id": "ewxJEXi7ohcI"
      },
      "execution_count": 359,
      "outputs": []
    },
    {
      "cell_type": "code",
      "source": [
        "grid_result = grid.fit(X_train, y_train)\n",
        "print(\"\\nBest estimator:\", grid_result.best_estimator_)\n",
        "print(\"\\nBest score:%f \\nusing %s\" % (grid_result.best_score_, grid_result.best_params_))"
      ],
      "metadata": {
        "colab": {
          "base_uri": "https://localhost:8080/"
        },
        "id": "ikou_mj8si8E",
        "outputId": "c7af4699-a0cc-4db1-c66f-26adfe3719cf"
      },
      "execution_count": 360,
      "outputs": [
        {
          "output_type": "stream",
          "name": "stdout",
          "text": [
            "Fitting 5 folds for each of 32 candidates, totalling 160 fits\n",
            "\n",
            "Best estimator: MLPClassifier(alpha=0.5, hidden_layer_sizes=(10, 20), max_iter=1000,\n",
            "              random_state=0)\n",
            "\n",
            "Best score:0.936426 \n",
            "using {'activation': 'relu', 'alpha': 0.5, 'hidden_layer_sizes': (10, 20), 'learning_rate': 'constant', 'solver': 'adam'}\n"
          ]
        }
      ]
    },
    {
      "cell_type": "code",
      "source": [
        "means = grid_result.cv_results_['mean_test_score']\n",
        "stds = grid_result.cv_results_['std_test_score']\n",
        "params = grid_result.cv_results_['params']\n",
        "for mean, stdev, param in zip(means, stds, params):\n",
        "    print(\"%f (%f) with: %r\" % (mean, stdev, param))"
      ],
      "metadata": {
        "colab": {
          "base_uri": "https://localhost:8080/"
        },
        "id": "-lvicWlCG8LU",
        "outputId": "540c7a06-188f-48c5-8057-4c5c2672bcfa"
      },
      "execution_count": 361,
      "outputs": [
        {
          "output_type": "stream",
          "name": "stdout",
          "text": [
            "0.625633 (0.004077) with: {'activation': 'tanh', 'alpha': 0.01, 'hidden_layer_sizes': (5, 10), 'learning_rate': 'constant', 'solver': 'sgd'}\n",
            "0.625633 (0.004077) with: {'activation': 'tanh', 'alpha': 0.01, 'hidden_layer_sizes': (5, 10), 'learning_rate': 'constant', 'solver': 'adam'}\n",
            "0.625633 (0.004077) with: {'activation': 'tanh', 'alpha': 0.01, 'hidden_layer_sizes': (5, 10), 'learning_rate': 'adaptive', 'solver': 'sgd'}\n",
            "0.625633 (0.004077) with: {'activation': 'tanh', 'alpha': 0.01, 'hidden_layer_sizes': (5, 10), 'learning_rate': 'adaptive', 'solver': 'adam'}\n",
            "0.625633 (0.004077) with: {'activation': 'tanh', 'alpha': 0.01, 'hidden_layer_sizes': (10, 20), 'learning_rate': 'constant', 'solver': 'sgd'}\n",
            "0.924106 (0.029584) with: {'activation': 'tanh', 'alpha': 0.01, 'hidden_layer_sizes': (10, 20), 'learning_rate': 'constant', 'solver': 'adam'}\n",
            "0.625633 (0.004077) with: {'activation': 'tanh', 'alpha': 0.01, 'hidden_layer_sizes': (10, 20), 'learning_rate': 'adaptive', 'solver': 'sgd'}\n",
            "0.924106 (0.029584) with: {'activation': 'tanh', 'alpha': 0.01, 'hidden_layer_sizes': (10, 20), 'learning_rate': 'adaptive', 'solver': 'adam'}\n",
            "0.625633 (0.004077) with: {'activation': 'tanh', 'alpha': 0.5, 'hidden_layer_sizes': (5, 10), 'learning_rate': 'constant', 'solver': 'sgd'}\n",
            "0.625633 (0.004077) with: {'activation': 'tanh', 'alpha': 0.5, 'hidden_layer_sizes': (5, 10), 'learning_rate': 'constant', 'solver': 'adam'}\n",
            "0.625633 (0.004077) with: {'activation': 'tanh', 'alpha': 0.5, 'hidden_layer_sizes': (5, 10), 'learning_rate': 'adaptive', 'solver': 'sgd'}\n",
            "0.625633 (0.004077) with: {'activation': 'tanh', 'alpha': 0.5, 'hidden_layer_sizes': (5, 10), 'learning_rate': 'adaptive', 'solver': 'adam'}\n",
            "0.625633 (0.004077) with: {'activation': 'tanh', 'alpha': 0.5, 'hidden_layer_sizes': (10, 20), 'learning_rate': 'constant', 'solver': 'sgd'}\n",
            "0.917554 (0.022139) with: {'activation': 'tanh', 'alpha': 0.5, 'hidden_layer_sizes': (10, 20), 'learning_rate': 'constant', 'solver': 'adam'}\n",
            "0.625633 (0.004077) with: {'activation': 'tanh', 'alpha': 0.5, 'hidden_layer_sizes': (10, 20), 'learning_rate': 'adaptive', 'solver': 'sgd'}\n",
            "0.917554 (0.022139) with: {'activation': 'tanh', 'alpha': 0.5, 'hidden_layer_sizes': (10, 20), 'learning_rate': 'adaptive', 'solver': 'adam'}\n",
            "0.625633 (0.004077) with: {'activation': 'relu', 'alpha': 0.01, 'hidden_layer_sizes': (5, 10), 'learning_rate': 'constant', 'solver': 'sgd'}\n",
            "0.924269 (0.029323) with: {'activation': 'relu', 'alpha': 0.01, 'hidden_layer_sizes': (5, 10), 'learning_rate': 'constant', 'solver': 'adam'}\n",
            "0.625633 (0.004077) with: {'activation': 'relu', 'alpha': 0.01, 'hidden_layer_sizes': (5, 10), 'learning_rate': 'adaptive', 'solver': 'sgd'}\n",
            "0.924269 (0.029323) with: {'activation': 'relu', 'alpha': 0.01, 'hidden_layer_sizes': (5, 10), 'learning_rate': 'adaptive', 'solver': 'adam'}\n",
            "0.625633 (0.004077) with: {'activation': 'relu', 'alpha': 0.01, 'hidden_layer_sizes': (10, 20), 'learning_rate': 'constant', 'solver': 'sgd'}\n",
            "0.933022 (0.023129) with: {'activation': 'relu', 'alpha': 0.01, 'hidden_layer_sizes': (10, 20), 'learning_rate': 'constant', 'solver': 'adam'}\n",
            "0.625633 (0.004077) with: {'activation': 'relu', 'alpha': 0.01, 'hidden_layer_sizes': (10, 20), 'learning_rate': 'adaptive', 'solver': 'sgd'}\n",
            "0.933022 (0.023129) with: {'activation': 'relu', 'alpha': 0.01, 'hidden_layer_sizes': (10, 20), 'learning_rate': 'adaptive', 'solver': 'adam'}\n",
            "0.625633 (0.004077) with: {'activation': 'relu', 'alpha': 0.5, 'hidden_layer_sizes': (5, 10), 'learning_rate': 'constant', 'solver': 'sgd'}\n",
            "0.928031 (0.034513) with: {'activation': 'relu', 'alpha': 0.5, 'hidden_layer_sizes': (5, 10), 'learning_rate': 'constant', 'solver': 'adam'}\n",
            "0.625633 (0.004077) with: {'activation': 'relu', 'alpha': 0.5, 'hidden_layer_sizes': (5, 10), 'learning_rate': 'adaptive', 'solver': 'sgd'}\n",
            "0.928031 (0.034513) with: {'activation': 'relu', 'alpha': 0.5, 'hidden_layer_sizes': (5, 10), 'learning_rate': 'adaptive', 'solver': 'adam'}\n",
            "0.625633 (0.004077) with: {'activation': 'relu', 'alpha': 0.5, 'hidden_layer_sizes': (10, 20), 'learning_rate': 'constant', 'solver': 'sgd'}\n",
            "0.936426 (0.017789) with: {'activation': 'relu', 'alpha': 0.5, 'hidden_layer_sizes': (10, 20), 'learning_rate': 'constant', 'solver': 'adam'}\n",
            "0.625633 (0.004077) with: {'activation': 'relu', 'alpha': 0.5, 'hidden_layer_sizes': (10, 20), 'learning_rate': 'adaptive', 'solver': 'sgd'}\n",
            "0.936426 (0.017789) with: {'activation': 'relu', 'alpha': 0.5, 'hidden_layer_sizes': (10, 20), 'learning_rate': 'adaptive', 'solver': 'adam'}\n"
          ]
        }
      ]
    },
    {
      "cell_type": "code",
      "source": [
        "y_true, y_pred = y_test , grid_result.predict(X_test)\n",
        "#\n",
        "print(\"\\nRelatório de Classificação: \\n\")\n",
        "target_names = df.target_names\n",
        "print(classification_report(y_true, y_pred, target_names=target_names))"
      ],
      "metadata": {
        "colab": {
          "base_uri": "https://localhost:8080/"
        },
        "id": "zAp95a_tKnor",
        "outputId": "c728dc5c-a4ea-4d5c-d58a-59ee328acda9"
      },
      "execution_count": 362,
      "outputs": [
        {
          "output_type": "stream",
          "name": "stdout",
          "text": [
            "\n",
            "Relatório de Classificação: \n",
            "\n",
            "              precision    recall  f1-score   support\n",
            "\n",
            "   malignant       0.90      0.95      0.92        63\n",
            "      benign       0.97      0.94      0.95       108\n",
            "\n",
            "    accuracy                           0.94       171\n",
            "   macro avg       0.93      0.94      0.94       171\n",
            "weighted avg       0.94      0.94      0.94       171\n",
            "\n"
          ]
        }
      ]
    },
    {
      "cell_type": "markdown",
      "source": [
        "## Análise\n",
        "### O objetivo dessa atividade foi implementar a técnica de busca dos melhores valores para os hiperparâmetros de um modelo MLP (Multi-Layer Perceptron).\n",
        "### A validação foi por meio da técnica de K-fold.\n",
        "### O modelo mlp foi instanciado com o parâmetro max_iter igual 1000.\n",
        "### Foi criado uma instância do objeto GridSearchCV e os parâmetros de execução foram configurados num arquivo na forma de dicionário.\n",
        "## Testes\n",
        "### O parâmetro random_state foi aplicado na criação do modelo MLP, com a finalidade de garantir a fixação de seus valores.\n",
        "### No arquivo parameter_space foram definidos os valores que os hiperparâmetros utilizariam durante o treinamento do GridSearchCV.\n",
        "\n",
        "## Com mais neurônios numa camada oculta a performance é melhor ou pior?\n",
        "### Foi definido que hidden_layer_sizes teria os valores:\n",
        "- [(5,10), (10,20)]\n",
        "### e alpha os valores:\n",
        "- [0.01 , 0.5]\n",
        "### Além de outros parâmetros tais como activation e solver.\n",
        "### O GridSearchCV foi inicializado com os parâmetros e treinado.\n",
        "### Foram testados diversas combinações de valores de parâmetros e a melhor configuração foi aplicada na instancia criada, grid_result.\n",
        "### A partir dessa instância foram obtidos os melhores parâmetros utilizados no treinamento do estimador.\n",
        "### O retorno do GridSeachCV é um objeto treinado com os melhores parâmetros, que pode ser usado para fazer previsões.\n",
        "### Foi então usado para gerar as métricas apresentadas no relatório de classificação.\n",
        "### A melhor configuração de hidden_layer_sizes foi (10, 20).\n",
        "### Nesse caso, mais neurônios podem aumentar a capacidade do modelo de aprender, porém aumentam a complexidade e também o risco de overfitting, principalmente em conjuntos de dados pequeno, como é o dataset usado.\n",
        "### O parâmetro alpha corrige essa possibilidade.\n",
        "### O valor de alpha foi de  0.5, foi aplicado para que os pesos se ajustem aos dados.\n",
        "### O valor de hidden_layer_sizes que foi definido no treinamento pelo GridSearchCV como sendo aquele que gerou uma maior performance,  foi aquele onde há um aumento no número de neuronios, consequentemente maior aprendizado e maior complexidade. O parâmetro alpha auxilia para evitar o overfitting.\n"
      ],
      "metadata": {
        "id": "ZGYQDC4ZeS2I"
      }
    }
  ]
}
